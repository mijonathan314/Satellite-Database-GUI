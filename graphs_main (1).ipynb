{
 "cells": [
  {
   "cell_type": "code",
   "execution_count": 1,
   "id": "04a2e64e",
   "metadata": {},
   "outputs": [],
   "source": [
    "import graph_module as gm"
   ]
  },
  {
   "cell_type": "code",
   "execution_count": 2,
   "id": "40524a0b",
   "metadata": {},
   "outputs": [],
   "source": [
    "gm.createGraph('Capella Space.csv')"
   ]
  },
  {
   "cell_type": "code",
   "execution_count": 17,
   "id": "2d7bc74a",
   "metadata": {},
   "outputs": [],
   "source": [
    "gm.createGraph('HawkEye 360.csv')"
   ]
  },
  {
   "cell_type": "code",
   "execution_count": 18,
   "id": "7e2b0c61",
   "metadata": {},
   "outputs": [],
   "source": [
    "gm.createGraph('Iceye.csv')"
   ]
  },
  {
   "cell_type": "code",
   "execution_count": 19,
   "id": "cdf6bd3c",
   "metadata": {
    "scrolled": true
   },
   "outputs": [],
   "source": [
    "gm.createGraph('Planet Labs.csv')"
   ]
  },
  {
   "cell_type": "code",
   "execution_count": null,
   "id": "0f30e26b",
   "metadata": {},
   "outputs": [],
   "source": []
  }
 ],
 "metadata": {
  "kernelspec": {
   "display_name": "Python 3 (ipykernel)",
   "language": "python",
   "name": "python3"
  },
  "language_info": {
   "codemirror_mode": {
    "name": "ipython",
    "version": 3
   },
   "file_extension": ".py",
   "mimetype": "text/x-python",
   "name": "python",
   "nbconvert_exporter": "python",
   "pygments_lexer": "ipython3",
   "version": "3.9.12"
  }
 },
 "nbformat": 4,
 "nbformat_minor": 5
}
